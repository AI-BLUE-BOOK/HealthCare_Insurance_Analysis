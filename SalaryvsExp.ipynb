{
  "nbformat": 4,
  "nbformat_minor": 0,
  "metadata": {
    "colab": {
      "provenance": [],
      "authorship_tag": "ABX9TyN5BF3RwCHLPnvf7QZS4f+7",
      "include_colab_link": true
    },
    "kernelspec": {
      "name": "python3",
      "display_name": "Python 3"
    },
    "language_info": {
      "name": "python"
    }
  },
  "cells": [
    {
      "cell_type": "markdown",
      "metadata": {
        "id": "view-in-github",
        "colab_type": "text"
      },
      "source": [
        "<a href=\"https://colab.research.google.com/github/2256haradityam/Projects/blob/main/SalaryvsExp.ipynb\" target=\"_parent\"><img src=\"https://colab.research.google.com/assets/colab-badge.svg\" alt=\"Open In Colab\"/></a>"
      ]
    },
    {
      "cell_type": "code",
      "source": [
        "import numpy as np\n",
        "import pandas as pd\n",
        "from sklearn.model_selection import train_test_split\n",
        "from sklearn.preprocessing import PolynomialFeatures\n",
        "from sklearn.linear_model import LinearRegression\n",
        "from sklearn.metrics import mean_squared_error, r2_score\n",
        "\n",
        "# Sample data\n",
        "years_experience = np.array([1.1, 1.3, 1.5, 2.0, 2.2, 2.9, 3.0, 3.2, 3.2, 3.7,\n",
        "                             3.9, 4.0, 4.0, 4.1, 4.5, 4.9, 5.1, 5.3, 5.9, 6.0,\n",
        "                             6.8, 7.1, 7.9, 8.2, 8.7, 9.0, 9.5, 9.6, 10.3, 10.5])\n",
        "salaries = np.array([39343.0, 46205.0, 37731.0, 43525.0, 39891.0, 56642.0, 60150.0,\n",
        "                     54445.0, 64445.0, 57189.0, 63218.0, 55794.0, 56957.0, 57081.0,\n",
        "                     61111.0, 67938.0, 66029.0, 83088.0, 81363.0, 93940.0, 91738.0,\n",
        "                     98273.0, 101302.0, 113812.0, 109431.0, 105582.0, 116969.0,\n",
        "                     112635.0, 122391.0, 121872.0])\n",
        "\n",
        "# Reshape data\n",
        "X = years_experience.reshape(-1, 1)\n",
        "y = salaries\n",
        "\n",
        "# Split data into training and test sets\n",
        "X_train, X_test, y_train, y_test = train_test_split(X, y, test_size=0.4, random_state=42)\n",
        "\n",
        "# Transform features using polynomial features\n",
        "degree = 3  # Adjust the degree as needed\n",
        "poly = PolynomialFeatures(degree=degree)\n",
        "X_train_poly = poly.fit_transform(X_train)\n",
        "X_test_poly = poly.transform(X_test)\n",
        "\n",
        "# Train the model\n",
        "model = LinearRegression()\n",
        "model.fit(X_train_poly, y_train)\n",
        "\n",
        "# Make predictions\n",
        "y_train_pred = model.predict(X_train_poly)\n",
        "y_test_pred = model.predict(X_test_poly)\n",
        "\n",
        "# Evaluate the model\n",
        "mse_train = mean_squared_error(y_train, y_train_pred)\n",
        "mse_test = mean_squared_error(y_test, y_test_pred)\n",
        "r2_train = r2_score(y_train, y_train_pred)\n",
        "r2_test = r2_score(y_test, y_test_pred)\n",
        "\n",
        "print(f'Training MSE: {mse_train:.2f}, R2: {r2_train:.2f}')\n",
        "print(f'Test MSE: {mse_test:.2f}, R2: {r2_test:.2f}')\n",
        "\n",
        "# Define the prediction function\n",
        "def predict_salary(years):\n",
        "    years_poly = poly.transform(np.array([[years]]))\n",
        "    return model.predict(years_poly)[0]\n",
        "\n",
        "# Example prediction\n",
        "example_years = 5.0\n",
        "predicted_salary = predict_salary(example_years)\n",
        "print(f'Predicted salary for {example_years} years of experience: {predicted_salary:.2f}')\n"
      ],
      "metadata": {
        "colab": {
          "base_uri": "https://localhost:8080/"
        },
        "id": "QlhxpvS6u3Ph",
        "outputId": "e2b9d6f9-3eca-49a2-d6fb-9783eb0b1c5d"
      },
      "execution_count": 52,
      "outputs": [
        {
          "output_type": "stream",
          "name": "stdout",
          "text": [
            "Training MSE: 22947706.07, R2: 0.97\n",
            "Test MSE: 32497286.11, R2: 0.96\n",
            "Predicted salary for 5.0 years of experience: 72433.78\n"
          ]
        }
      ]
    }
  ]
}