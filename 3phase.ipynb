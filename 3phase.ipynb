{
  "nbformat": 4,
  "nbformat_minor": 0,
  "metadata": {
    "colab": {
      "provenance": []
    },
    "kernelspec": {
      "name": "python3",
      "display_name": "Python 3"
    },
    "language_info": {
      "name": "python"
    }
  },
  "cells": [
    {
      "cell_type": "code",
      "execution_count": null,
      "metadata": {
        "colab": {
          "base_uri": "https://localhost:8080/"
        },
        "id": "HX9OX5oT4dLP",
        "outputId": "3faeaaa2-9d15-42e6-df05-b5f00d9423d6"
      },
      "outputs": [
        {
          "output_type": "stream",
          "name": "stdout",
          "text": [
            "Model: Linear Regression\n",
            "  VMAE: 3444.3239\n",
            "  MAE: 3494.8609\n",
            "  MSE: 24868266.3992\n",
            "  R²: 0.3557\n",
            "  RMSE: 4986.8092\n",
            "  Cross-Validated MAE: 3792.5752\n",
            "Model: Ridge Regression\n",
            "  VMAE: 3444.7731\n",
            "  MAE: 3494.4672\n",
            "  MSE: 24861371.6619\n",
            "  R²: 0.3559\n",
            "  RMSE: 4986.1179\n",
            "  Cross-Validated MAE: 3792.0919\n",
            "Model: Lasso Regression\n",
            "  VMAE: 3444.4140\n",
            "  MAE: 3494.7869\n",
            "  MSE: 24866928.3599\n",
            "  R²: 0.3557\n",
            "  RMSE: 4986.6751\n",
            "  Cross-Validated MAE: 3792.5088\n",
            "Model: Decision Tree\n",
            "  VMAE: 3146.3254\n",
            "  MAE: 3292.5112\n",
            "  MSE: 23764586.8569\n",
            "  R²: 0.3843\n",
            "  RMSE: 4874.8935\n",
            "  Cross-Validated MAE: 3468.7892\n",
            "Model: Random Forest\n",
            "  VMAE: 3144.4433\n",
            "  MAE: 3275.0167\n",
            "  MSE: 23614206.4013\n",
            "  R²: 0.3882\n",
            "  RMSE: 4859.4451\n",
            "  Cross-Validated MAE: 3488.6537\n",
            "Model: Gradient Boosting\n",
            "  VMAE: 3148.2606\n",
            "  MAE: 3334.2157\n",
            "  MSE: 23723440.9080\n",
            "  R²: 0.3854\n",
            "  RMSE: 4870.6715\n",
            "  Cross-Validated MAE: 3481.0552\n",
            "Model: K-Neighbors\n",
            "  VMAE: 2862.3188\n",
            "  MAE: 2932.5581\n",
            "  MSE: 25745116.2791\n",
            "  R²: 0.3330\n",
            "  RMSE: 5073.9646\n",
            "  Cross-Validated MAE: 3473.3178\n",
            "Model: XGBoost\n",
            "  VMAE: 3146.3256\n",
            "  MAE: 3292.5112\n",
            "  MSE: 23764584.6287\n",
            "  R²: 0.3843\n",
            "  RMSE: 4874.8933\n",
            "  Cross-Validated MAE: 3468.7892\n",
            "The best model is: XGBoost\n"
          ]
        }
      ],
      "source": [
        "import numpy as np\n",
        "import pandas as pd\n",
        "import matplotlib.pyplot as plt\n",
        "import seaborn as sns\n",
        "from sklearn.model_selection import train_test_split, KFold, cross_val_score\n",
        "from sklearn.preprocessing import StandardScaler, OneHotEncoder, MinMaxScaler\n",
        "from sklearn.compose import ColumnTransformer\n",
        "from sklearn.pipeline import Pipeline\n",
        "from sklearn.impute import SimpleImputer\n",
        "from sklearn.linear_model import LinearRegression, Ridge, Lasso\n",
        "from sklearn.tree import DecisionTreeRegressor\n",
        "from sklearn.ensemble import RandomForestRegressor, GradientBoostingRegressor, ExtraTreesRegressor\n",
        "from sklearn.metrics import mean_absolute_error, mean_squared_error, r2_score, make_scorer\n",
        "from sklearn.neighbors import KNeighborsRegressor\n",
        "from sklearn.model_selection import RandomizedSearchCV\n",
        "from xgboost import XGBRegressor\n",
        "from imblearn.over_sampling import SMOTE\n",
        "kfold = KFold(n_splits=5, shuffle=True, random_state=42)\n",
        "\n",
        "# Load dataset\n",
        "hdn = pd.read_csv('https://github.com/2256haradityam/dataset/raw/main/hdn.csv')\n",
        "\n",
        "\n",
        "# Remove outliers based on the Interquartile Range (IQR)\n",
        "Q1 = hdn.quantile(0.25)\n",
        "Q3 = hdn.quantile(0.75)\n",
        "IQR = Q3 - Q1\n",
        "hdn = hdn[~((hdn < (Q1 - 1.5 * IQR)) | (hdn > (Q3 + 1.5 * IQR))).any(axis=1)]\n",
        "\n",
        "# Check for correlation and drop less significant columns\n",
        "# Separate features and target variable\n",
        "x = hdn.drop('charges', axis=1)\n",
        "y = hdn['charges']\n",
        "\n",
        "# Identify numerical and categorical columns\n",
        "numerical_cols = x.select_dtypes(include=['int64', 'float64']).columns\n",
        "categorical_cols = x.select_dtypes(include=['object']).columns\n",
        "\n",
        "# Preprocessing pipelines for numerical and categorical data\n",
        "numerical_transformer = Pipeline(steps=[\n",
        "    ('imputer', SimpleImputer(strategy='median')),\n",
        "    ('scaler', StandardScaler())\n",
        "])\n",
        "\n",
        "categorical_transformer = Pipeline(steps=[\n",
        "    ('imputer', SimpleImputer(strategy='most_frequent')),\n",
        "    ('onehot', OneHotEncoder(handle_unknown='ignore'))\n",
        "])\n",
        "\n",
        "# Combine preprocessing steps\n",
        "preprocessor = ColumnTransformer(\n",
        "    transformers=[\n",
        "        ('num', numerical_transformer, numerical_cols),\n",
        "        ('cat', categorical_transformer, categorical_cols)\n",
        "    ])\n",
        "\n",
        "# Apply preprocessing\n",
        "x_preprocessed = preprocessor.fit_transform(x)\n",
        "\n",
        "# Split dataset into training, validation, and test sets\n",
        "x_train, x_test, y_train, y_test = train_test_split(x_preprocessed, y, test_size=0.2, random_state=42)\n",
        "x_train, x_val, y_train, y_val = train_test_split(x_train, y_train, test_size=0.2, random_state=42)\n",
        "\n",
        "# Define the number of folds for cross-validation\n",
        "kfold = KFold(n_splits=5, shuffle=True, random_state=42)\n",
        "\n",
        "# Define a scorer for cross-validation\n",
        "scorer = make_scorer(mean_absolute_error, greater_is_better=False)\n",
        "\n",
        "# Initialize models\n",
        "models = {\n",
        "    'Linear Regression': LinearRegression(),\n",
        "    'Ridge Regression': Ridge(),\n",
        "    'Lasso Regression': Lasso(),\n",
        "    'Decision Tree': DecisionTreeRegressor(),\n",
        "    'Random Forest': RandomForestRegressor(),\n",
        "    'Gradient Boosting': GradientBoostingRegressor(),\n",
        "    'K-Neighbors': KNeighborsRegressor(),\n",
        "    'XGBoost': XGBRegressor(objective='reg:squarederror')\n",
        "}\n",
        "\n",
        "# Train models using k-fold cross-validation and evaluate them\n",
        "evaluation_results = {}\n",
        "\n",
        "for name, model in models.items():\n",
        "    # Cross-validation\n",
        "    cv_results = cross_val_score(model, x_train, y_train, cv=kfold, scoring=scorer)\n",
        "    model.fit(x_train, y_train)\n",
        "\n",
        "    # Predict on validation and test set\n",
        "    y_val_pred = model.predict(x_val)\n",
        "    y_test_pred = model.predict(x_test)\n",
        "\n",
        "    # Calculate metrics\n",
        "    evaluation_results[name] = {\n",
        "        'VMAE': mean_absolute_error(y_val, y_val_pred),\n",
        "        'MAE': mean_absolute_error(y_test, y_test_pred),\n",
        "        'MSE': mean_squared_error(y_test, y_test_pred),\n",
        "        'R²': r2_score(y_test, y_test_pred),\n",
        "        'RMSE': np.sqrt(mean_squared_error(y_test, y_test_pred)),\n",
        "        'Cross-Validated MAE': -cv_results.mean()\n",
        "    }\n",
        "\n",
        "# Display evaluation results\n",
        "for name, metrics in evaluation_results.items():\n",
        "    print(f\"Model: {name}\")\n",
        "    for metric, value in metrics.items():\n",
        "        print(f\"  {metric}: {value:.4f}\")\n",
        "\n",
        "# Determine the best model based on cross-validated MAE\n",
        "best_model_name = min(evaluation_results, key=lambda x: evaluation_results[x]['Cross-Validated MAE'])\n",
        "best_model = models[best_model_name]\n",
        "\n",
        "print(f\"The best model is: {best_model_name}\")\n"
      ]
    },
    {
      "cell_type": "code",
      "source": [
        "# Fit the XGBoost model to the training data\n",
        "model = XGBRegressor(objective='reg:squarederror')\n",
        "model.fit(x_train, y_train)  # Fit the model here\n",
        "\n",
        "# Now you can extract feature importances\n",
        "feature_importances = model.feature_importances_\n",
        "\n",
        "# Get feature names from the preprocessor\n",
        "# (assuming 'preprocessor' is the ColumnTransformer object you defined earlier)\n",
        "feature_names = preprocessor.get_feature_names_out()\n",
        "\n",
        "# Create a DataFrame to view feature importances\n",
        "importance_df = pd.DataFrame({'Feature': feature_names, 'Importance': feature_importances})\n",
        "importance_df = importance_df.sort_values(by='Importance', ascending=False)\n",
        "\n",
        "print(importance_df)"
      ],
      "metadata": {
        "colab": {
          "base_uri": "https://localhost:8080/"
        },
        "id": "FzcGIoRJ9zEr",
        "outputId": "b2fd9ab1-701c-4d8d-f29f-5667667f24c3"
      },
      "execution_count": null,
      "outputs": [
        {
          "output_type": "stream",
          "name": "stdout",
          "text": [
            "              Feature  Importance\n",
            "0  num__Hospital tier    0.857985\n",
            "2            num__age    0.142015\n",
            "1       num__State ID    0.000000\n",
            "3         num__smoker    0.000000\n"
          ]
        }
      ]
    },
    {
      "cell_type": "code",
      "source": [
        "print(x_train)"
      ],
      "metadata": {
        "colab": {
          "base_uri": "https://localhost:8080/"
        },
        "id": "J1ybdIEcLbH4",
        "outputId": "7b1338af-ffa5-4892-e280-b8c46b5a05bf"
      },
      "execution_count": null,
      "outputs": [
        {
          "output_type": "stream",
          "name": "stdout",
          "text": [
            "[[-0.33110189  0.          0.92005983  0.        ]\n",
            " [-0.33110189  0.          1.65473767  0.        ]\n",
            " [-0.33110189  0.          0.55272091  0.        ]\n",
            " ...\n",
            " [-0.33110189  0.         -0.91663476  0.        ]\n",
            " [-0.33110189  0.          1.65473767  0.        ]\n",
            " [ 1.444432    0.          1.65473767  0.        ]]\n"
          ]
        }
      ]
    },
    {
      "cell_type": "code",
      "source": [
        "# Provided data to be cleaned and used for prediction\n",
        "data = {\n",
        "    'Name': 'Christopher, Ms. Jayna',\n",
        "    'Date of Birth': '12/28/1988',\n",
        "    'Height': 170,\n",
        "    'Weight': 85,\n",
        "    'City Tier': 'tier-1',\n",
        "    'State ID': 'R1011',\n",
        "    'Diabetic': False,\n",
        "    'HbA1c': 5.8,\n",
        "    'Smoker': True,\n",
        "    'Health Status': 'Healthy',\n",
        "    'Major Surgeries': False,\n",
        "    'Father Cause of Death': 'Lung Cancer'\n",
        "}\n",
        "\n",
        "# Function to calculate age based on date of birth\n",
        "def calculate_age(dob, current_year=2024):\n",
        "    birth_year = int(dob.split('/')[-1])\n",
        "    return current_year - birth_year\n",
        "\n",
        "# Cleaned data with only necessary features for prediction\n",
        "cleaned_data = {\n",
        "    'Hospital tier': 1 if data['City Tier'] == 'tier-1' else 0,\n",
        "    'age': calculate_age(data['Date of Birth']),\n",
        "    'State ID': 0,\n",
        "    'smoker': 0\n",
        "}\n",
        "\n",
        "# Convert cleaned data to DataFrame\n",
        "input_data = pd.DataFrame([cleaned_data])\n",
        "\n",
        "# Ensure the input data matches the model's expected format\n",
        "x_input = preprocessor.transform(input_data)\n",
        "\n",
        "# Make predictions using the best model\n",
        "predicted_cost = best_model.predict(x_input)\n",
        "\n",
        "print(f\"Estimated Hospitalization Cost for {data['Name']}: ${predicted_cost[0]:.2f}\")\n"
      ],
      "metadata": {
        "id": "Ca0IbmHDM-ub",
        "colab": {
          "base_uri": "https://localhost:8080/"
        },
        "outputId": "3a7fb334-85a4-4026-f25d-0b097ff71305"
      },
      "execution_count": null,
      "outputs": [
        {
          "output_type": "stream",
          "name": "stdout",
          "text": [
            "Estimated Hospitalization Cost for Christopher, Ms. Jayna: $28000.00\n"
          ]
        }
      ]
    },
    {
      "cell_type": "code",
      "source": [
        "hdn.info()"
      ],
      "metadata": {
        "colab": {
          "base_uri": "https://localhost:8080/"
        },
        "id": "DSpmW-Dqxt6D",
        "outputId": "f9392b0c-3eef-4872-c166-44be02df4032"
      },
      "execution_count": null,
      "outputs": [
        {
          "output_type": "stream",
          "name": "stdout",
          "text": [
            "<class 'pandas.core.frame.DataFrame'>\n",
            "Index: 858 entries, 294 to 2321\n",
            "Data columns (total 5 columns):\n",
            " #   Column         Non-Null Count  Dtype\n",
            "---  ------         --------------  -----\n",
            " 0   charges        858 non-null    int64\n",
            " 1   Hospital tier  858 non-null    int64\n",
            " 2   State ID       858 non-null    int64\n",
            " 3   age            858 non-null    int64\n",
            " 4   smoker         858 non-null    int64\n",
            "dtypes: int64(5)\n",
            "memory usage: 40.2 KB\n"
          ]
        }
      ]
    },
    {
      "cell_type": "code",
      "source": [],
      "metadata": {
        "id": "h6sLRaahxwxC"
      },
      "execution_count": null,
      "outputs": []
    }
  ]
}
